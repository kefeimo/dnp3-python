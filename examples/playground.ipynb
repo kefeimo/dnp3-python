{
 "cells": [
  {
   "cell_type": "code",
   "execution_count": 1,
   "metadata": {},
   "outputs": [],
   "source": [
    "db = {'Analog': {0: 0.0, 1: 0.0, 2: 0.0, 3: 0.0}, \n",
    "        'AnalogOutputStatus': {0: 0.0, 1: 0.0, 2: 0.0, 3: 0.0}, \n",
    "        'Binary': {0: False, 1: False, 2: False, 3: False}, \n",
    "        'BinaryOutputStatus': {0: False, 1: False, 2: False, 3: False}}"
   ]
  },
  {
   "cell_type": "code",
   "execution_count": 2,
   "metadata": {},
   "outputs": [],
   "source": [
    "import pandas as pd\n",
    "from datetime import datetime"
   ]
  },
  {
   "cell_type": "code",
   "execution_count": 3,
   "metadata": {},
   "outputs": [
    {
     "data": {
      "text/plain": [
       "{'Name': ['Analog_0',\n",
       "  'Analog_1',\n",
       "  'Analog_2',\n",
       "  'Analog_3',\n",
       "  'AnalogOutputStatus_0',\n",
       "  'AnalogOutputStatus_1',\n",
       "  'AnalogOutputStatus_2',\n",
       "  'AnalogOutputStatus_3',\n",
       "  'Binary_0',\n",
       "  'Binary_1',\n",
       "  'Binary_2',\n",
       "  'Binary_3',\n",
       "  'BinaryOutputStatus_0',\n",
       "  'BinaryOutputStatus_1',\n",
       "  'BinaryOutputStatus_2',\n",
       "  'BinaryOutputStatus_3'],\n",
       " 'Value': [0.0,\n",
       "  0.0,\n",
       "  0.0,\n",
       "  0.0,\n",
       "  0.0,\n",
       "  0.0,\n",
       "  0.0,\n",
       "  0.0,\n",
       "  False,\n",
       "  False,\n",
       "  False,\n",
       "  False,\n",
       "  False,\n",
       "  False,\n",
       "  False,\n",
       "  False],\n",
       " 'Type': ['Analog',\n",
       "  'Analog',\n",
       "  'Analog',\n",
       "  'Analog',\n",
       "  'AnalogOutputStatus',\n",
       "  'AnalogOutputStatus',\n",
       "  'AnalogOutputStatus',\n",
       "  'AnalogOutputStatus',\n",
       "  'Binary',\n",
       "  'Binary',\n",
       "  'Binary',\n",
       "  'Binary',\n",
       "  'BinaryOutputStatus',\n",
       "  'BinaryOutputStatus',\n",
       "  'BinaryOutputStatus',\n",
       "  'BinaryOutputStatus']}"
      ]
     },
     "execution_count": 3,
     "metadata": {},
     "output_type": "execute_result"
    }
   ],
   "source": [
    "db_flat: dict = {} \n",
    "# {\"Name\": [\"Analog_0\", \"Analog_1\"], \n",
    "# \"Value\": [0.0, 0.1], \n",
    "# \"Type\": [\"AnalogInput\", \"AnalogInput\"], \n",
    "# \"Update_at\": [2024-08-05 15:39:02.275748, 2024-08-05 15:39:02.275748]}\n",
    "for k, v in db.items():\n",
    "    # 'Analog': {0: 0.0, 1: 0.0, 2: 0.0, 3: 0.0}\n",
    "    names = [k + \"_\" + str(index) for index in v.keys()]\n",
    "    values = [value for value in v.values()]\n",
    "    types = [k for _ in v.keys()]\n",
    "    # Update_at = \n",
    "    if db_flat == {}:\n",
    "        db_flat = {\"Name\": names, \"Value\": values, \"Type\": types}\n",
    "    else:\n",
    "        db_flat[\"Name\"] += names\n",
    "        db_flat[\"Value\"] += values\n",
    "        db_flat[\"Type\"] += types\n",
    "db_flat"
   ]
  },
  {
   "cell_type": "code",
   "execution_count": 4,
   "metadata": {},
   "outputs": [
    {
     "data": {
      "text/html": [
       "<div>\n",
       "<style scoped>\n",
       "    .dataframe tbody tr th:only-of-type {\n",
       "        vertical-align: middle;\n",
       "    }\n",
       "\n",
       "    .dataframe tbody tr th {\n",
       "        vertical-align: top;\n",
       "    }\n",
       "\n",
       "    .dataframe thead th {\n",
       "        text-align: right;\n",
       "    }\n",
       "</style>\n",
       "<table border=\"1\" class=\"dataframe\">\n",
       "  <thead>\n",
       "    <tr style=\"text-align: right;\">\n",
       "      <th></th>\n",
       "      <th>Name</th>\n",
       "      <th>Value</th>\n",
       "      <th>Type</th>\n",
       "    </tr>\n",
       "  </thead>\n",
       "  <tbody>\n",
       "    <tr>\n",
       "      <th>0</th>\n",
       "      <td>Analog_0</td>\n",
       "      <td>0.0</td>\n",
       "      <td>Analog</td>\n",
       "    </tr>\n",
       "    <tr>\n",
       "      <th>1</th>\n",
       "      <td>Analog_1</td>\n",
       "      <td>0.0</td>\n",
       "      <td>Analog</td>\n",
       "    </tr>\n",
       "    <tr>\n",
       "      <th>2</th>\n",
       "      <td>Analog_2</td>\n",
       "      <td>0.0</td>\n",
       "      <td>Analog</td>\n",
       "    </tr>\n",
       "    <tr>\n",
       "      <th>3</th>\n",
       "      <td>Analog_3</td>\n",
       "      <td>0.0</td>\n",
       "      <td>Analog</td>\n",
       "    </tr>\n",
       "    <tr>\n",
       "      <th>4</th>\n",
       "      <td>AnalogOutputStatus_0</td>\n",
       "      <td>0.0</td>\n",
       "      <td>AnalogOutputStatus</td>\n",
       "    </tr>\n",
       "    <tr>\n",
       "      <th>5</th>\n",
       "      <td>AnalogOutputStatus_1</td>\n",
       "      <td>0.0</td>\n",
       "      <td>AnalogOutputStatus</td>\n",
       "    </tr>\n",
       "    <tr>\n",
       "      <th>6</th>\n",
       "      <td>AnalogOutputStatus_2</td>\n",
       "      <td>0.0</td>\n",
       "      <td>AnalogOutputStatus</td>\n",
       "    </tr>\n",
       "    <tr>\n",
       "      <th>7</th>\n",
       "      <td>AnalogOutputStatus_3</td>\n",
       "      <td>0.0</td>\n",
       "      <td>AnalogOutputStatus</td>\n",
       "    </tr>\n",
       "    <tr>\n",
       "      <th>8</th>\n",
       "      <td>Binary_0</td>\n",
       "      <td>False</td>\n",
       "      <td>Binary</td>\n",
       "    </tr>\n",
       "    <tr>\n",
       "      <th>9</th>\n",
       "      <td>Binary_1</td>\n",
       "      <td>False</td>\n",
       "      <td>Binary</td>\n",
       "    </tr>\n",
       "    <tr>\n",
       "      <th>10</th>\n",
       "      <td>Binary_2</td>\n",
       "      <td>False</td>\n",
       "      <td>Binary</td>\n",
       "    </tr>\n",
       "    <tr>\n",
       "      <th>11</th>\n",
       "      <td>Binary_3</td>\n",
       "      <td>False</td>\n",
       "      <td>Binary</td>\n",
       "    </tr>\n",
       "    <tr>\n",
       "      <th>12</th>\n",
       "      <td>BinaryOutputStatus_0</td>\n",
       "      <td>False</td>\n",
       "      <td>BinaryOutputStatus</td>\n",
       "    </tr>\n",
       "    <tr>\n",
       "      <th>13</th>\n",
       "      <td>BinaryOutputStatus_1</td>\n",
       "      <td>False</td>\n",
       "      <td>BinaryOutputStatus</td>\n",
       "    </tr>\n",
       "    <tr>\n",
       "      <th>14</th>\n",
       "      <td>BinaryOutputStatus_2</td>\n",
       "      <td>False</td>\n",
       "      <td>BinaryOutputStatus</td>\n",
       "    </tr>\n",
       "    <tr>\n",
       "      <th>15</th>\n",
       "      <td>BinaryOutputStatus_3</td>\n",
       "      <td>False</td>\n",
       "      <td>BinaryOutputStatus</td>\n",
       "    </tr>\n",
       "  </tbody>\n",
       "</table>\n",
       "</div>"
      ],
      "text/plain": [
       "                    Name  Value                Type\n",
       "0               Analog_0    0.0              Analog\n",
       "1               Analog_1    0.0              Analog\n",
       "2               Analog_2    0.0              Analog\n",
       "3               Analog_3    0.0              Analog\n",
       "4   AnalogOutputStatus_0    0.0  AnalogOutputStatus\n",
       "5   AnalogOutputStatus_1    0.0  AnalogOutputStatus\n",
       "6   AnalogOutputStatus_2    0.0  AnalogOutputStatus\n",
       "7   AnalogOutputStatus_3    0.0  AnalogOutputStatus\n",
       "8               Binary_0  False              Binary\n",
       "9               Binary_1  False              Binary\n",
       "10              Binary_2  False              Binary\n",
       "11              Binary_3  False              Binary\n",
       "12  BinaryOutputStatus_0  False  BinaryOutputStatus\n",
       "13  BinaryOutputStatus_1  False  BinaryOutputStatus\n",
       "14  BinaryOutputStatus_2  False  BinaryOutputStatus\n",
       "15  BinaryOutputStatus_3  False  BinaryOutputStatus"
      ]
     },
     "execution_count": 4,
     "metadata": {},
     "output_type": "execute_result"
    }
   ],
   "source": [
    "# pd.DataFrame(db_flat)\n",
    "df_flat = pd.DataFrame(db_flat)\n",
    "df_flat"
   ]
  },
  {
   "cell_type": "code",
   "execution_count": 5,
   "metadata": {},
   "outputs": [
    {
     "name": "stdout",
     "output_type": "stream",
     "text": [
      "    Name                    Value  Type\n",
      " 0  Analog_0                    0  Analog\n",
      " 1  Analog_1                    0  Analog\n",
      " 2  Analog_2                    0  Analog\n",
      " 3  Analog_3                    0  Analog\n",
      " 4  AnalogOutputStatus_0        0  AnalogOutputStatus\n",
      " 5  AnalogOutputStatus_1        0  AnalogOutputStatus\n",
      " 6  AnalogOutputStatus_2        0  AnalogOutputStatus\n",
      " 7  AnalogOutputStatus_3        0  AnalogOutputStatus\n",
      " 8  Binary_0                    0  Binary\n",
      " 9  Binary_1                    0  Binary\n",
      "10  Binary_2                    0  Binary\n",
      "11  Binary_3                    0  Binary\n",
      "12  BinaryOutputStatus_0        0  BinaryOutputStatus\n",
      "13  BinaryOutputStatus_1        0  BinaryOutputStatus\n",
      "14  BinaryOutputStatus_2        0  BinaryOutputStatus\n",
      "15  BinaryOutputStatus_3        0  BinaryOutputStatus\n"
     ]
    }
   ],
   "source": [
    "from tabulate import tabulate\n",
    "print(tabulate(df_flat, headers='keys', \n",
    "               tablefmt='plain'\n",
    "               ))\n",
    "# tabulate(df_flat, headers='keys', tablefmt='psql')"
   ]
  },
  {
   "cell_type": "code",
   "execution_count": 6,
   "metadata": {},
   "outputs": [
    {
     "data": {
      "text/html": [
       "<div>\n",
       "<style scoped>\n",
       "    .dataframe tbody tr th:only-of-type {\n",
       "        vertical-align: middle;\n",
       "    }\n",
       "\n",
       "    .dataframe tbody tr th {\n",
       "        vertical-align: top;\n",
       "    }\n",
       "\n",
       "    .dataframe thead th {\n",
       "        text-align: right;\n",
       "    }\n",
       "</style>\n",
       "<table border=\"1\" class=\"dataframe\">\n",
       "  <thead>\n",
       "    <tr style=\"text-align: right;\">\n",
       "      <th></th>\n",
       "      <th>Name</th>\n",
       "      <th>Value</th>\n",
       "      <th>Type</th>\n",
       "    </tr>\n",
       "  </thead>\n",
       "  <tbody>\n",
       "    <tr>\n",
       "      <th>0</th>\n",
       "      <td>Analog_0</td>\n",
       "      <td>0.0</td>\n",
       "      <td>Analog</td>\n",
       "    </tr>\n",
       "    <tr>\n",
       "      <th>1</th>\n",
       "      <td>Analog_1</td>\n",
       "      <td>0.0</td>\n",
       "      <td>Analog</td>\n",
       "    </tr>\n",
       "    <tr>\n",
       "      <th>2</th>\n",
       "      <td>Analog_2</td>\n",
       "      <td>0.0</td>\n",
       "      <td>Analog</td>\n",
       "    </tr>\n",
       "    <tr>\n",
       "      <th>3</th>\n",
       "      <td>Analog_3</td>\n",
       "      <td>0.0</td>\n",
       "      <td>Analog</td>\n",
       "    </tr>\n",
       "    <tr>\n",
       "      <th>4</th>\n",
       "      <td>AnalogOutputStatus_0</td>\n",
       "      <td>0.0</td>\n",
       "      <td>AnalogOutputStatus</td>\n",
       "    </tr>\n",
       "    <tr>\n",
       "      <th>5</th>\n",
       "      <td>AnalogOutputStatus_1</td>\n",
       "      <td>0.0</td>\n",
       "      <td>AnalogOutputStatus</td>\n",
       "    </tr>\n",
       "    <tr>\n",
       "      <th>6</th>\n",
       "      <td>AnalogOutputStatus_2</td>\n",
       "      <td>0.0</td>\n",
       "      <td>AnalogOutputStatus</td>\n",
       "    </tr>\n",
       "    <tr>\n",
       "      <th>7</th>\n",
       "      <td>AnalogOutputStatus_3</td>\n",
       "      <td>0.0</td>\n",
       "      <td>AnalogOutputStatus</td>\n",
       "    </tr>\n",
       "    <tr>\n",
       "      <th>8</th>\n",
       "      <td>Binary_0</td>\n",
       "      <td>False</td>\n",
       "      <td>Binary</td>\n",
       "    </tr>\n",
       "    <tr>\n",
       "      <th>9</th>\n",
       "      <td>Binary_1</td>\n",
       "      <td>False</td>\n",
       "      <td>Binary</td>\n",
       "    </tr>\n",
       "    <tr>\n",
       "      <th>10</th>\n",
       "      <td>Binary_2</td>\n",
       "      <td>False</td>\n",
       "      <td>Binary</td>\n",
       "    </tr>\n",
       "    <tr>\n",
       "      <th>11</th>\n",
       "      <td>Binary_3</td>\n",
       "      <td>False</td>\n",
       "      <td>Binary</td>\n",
       "    </tr>\n",
       "    <tr>\n",
       "      <th>12</th>\n",
       "      <td>BinaryOutputStatus_0</td>\n",
       "      <td>False</td>\n",
       "      <td>BinaryOutputStatus</td>\n",
       "    </tr>\n",
       "    <tr>\n",
       "      <th>13</th>\n",
       "      <td>BinaryOutputStatus_1</td>\n",
       "      <td>False</td>\n",
       "      <td>BinaryOutputStatus</td>\n",
       "    </tr>\n",
       "    <tr>\n",
       "      <th>14</th>\n",
       "      <td>BinaryOutputStatus_2</td>\n",
       "      <td>False</td>\n",
       "      <td>BinaryOutputStatus</td>\n",
       "    </tr>\n",
       "    <tr>\n",
       "      <th>15</th>\n",
       "      <td>BinaryOutputStatus_3</td>\n",
       "      <td>False</td>\n",
       "      <td>BinaryOutputStatus</td>\n",
       "    </tr>\n",
       "  </tbody>\n",
       "</table>\n",
       "</div>"
      ],
      "text/plain": [
       "                    Name  Value                Type\n",
       "0               Analog_0    0.0              Analog\n",
       "1               Analog_1    0.0              Analog\n",
       "2               Analog_2    0.0              Analog\n",
       "3               Analog_3    0.0              Analog\n",
       "4   AnalogOutputStatus_0    0.0  AnalogOutputStatus\n",
       "5   AnalogOutputStatus_1    0.0  AnalogOutputStatus\n",
       "6   AnalogOutputStatus_2    0.0  AnalogOutputStatus\n",
       "7   AnalogOutputStatus_3    0.0  AnalogOutputStatus\n",
       "8               Binary_0  False              Binary\n",
       "9               Binary_1  False              Binary\n",
       "10              Binary_2  False              Binary\n",
       "11              Binary_3  False              Binary\n",
       "12  BinaryOutputStatus_0  False  BinaryOutputStatus\n",
       "13  BinaryOutputStatus_1  False  BinaryOutputStatus\n",
       "14  BinaryOutputStatus_2  False  BinaryOutputStatus\n",
       "15  BinaryOutputStatus_3  False  BinaryOutputStatus"
      ]
     },
     "execution_count": 6,
     "metadata": {},
     "output_type": "execute_result"
    }
   ],
   "source": [
    "df_flat"
   ]
  },
  {
   "cell_type": "code",
   "execution_count": 7,
   "metadata": {},
   "outputs": [],
   "source": [
    "def dnp3_name_mapping(default_name: str) -> str:\n",
    "    point_type, point_index = default_name.split(\"_\")[0], default_name.split(\"_\")[1]\n",
    "    if point_type == \"Analog\":\n",
    "        schema_type = \"AI\"\n",
    "    elif point_type == \"AnalogOutputStatus\":\n",
    "        schema_type = \"AO\"\n",
    "    elif point_type == \"Binary\":\n",
    "        schema_type = \"BI\"\n",
    "    else: # point_type == \"BinaryOutputStatus\":\n",
    "        schema_type = \"BO\"\n",
    "        \n",
    "    return f\"{schema_type}-{(point_index).zfill(3)}\" # 'padding in-front with zeros up to 3 digits"
   ]
  },
  {
   "cell_type": "code",
   "execution_count": 8,
   "metadata": {},
   "outputs": [
    {
     "data": {
      "text/html": [
       "<div>\n",
       "<style scoped>\n",
       "    .dataframe tbody tr th:only-of-type {\n",
       "        vertical-align: middle;\n",
       "    }\n",
       "\n",
       "    .dataframe tbody tr th {\n",
       "        vertical-align: top;\n",
       "    }\n",
       "\n",
       "    .dataframe thead th {\n",
       "        text-align: right;\n",
       "    }\n",
       "</style>\n",
       "<table border=\"1\" class=\"dataframe\">\n",
       "  <thead>\n",
       "    <tr style=\"text-align: right;\">\n",
       "      <th></th>\n",
       "      <th>Name</th>\n",
       "      <th>Value</th>\n",
       "      <th>Type</th>\n",
       "      <th>point_name</th>\n",
       "    </tr>\n",
       "  </thead>\n",
       "  <tbody>\n",
       "    <tr>\n",
       "      <th>0</th>\n",
       "      <td>Analog_0</td>\n",
       "      <td>0.0</td>\n",
       "      <td>Analog</td>\n",
       "      <td>AI-000</td>\n",
       "    </tr>\n",
       "    <tr>\n",
       "      <th>1</th>\n",
       "      <td>Analog_1</td>\n",
       "      <td>0.0</td>\n",
       "      <td>Analog</td>\n",
       "      <td>AI-001</td>\n",
       "    </tr>\n",
       "    <tr>\n",
       "      <th>2</th>\n",
       "      <td>Analog_2</td>\n",
       "      <td>0.0</td>\n",
       "      <td>Analog</td>\n",
       "      <td>AI-002</td>\n",
       "    </tr>\n",
       "    <tr>\n",
       "      <th>3</th>\n",
       "      <td>Analog_3</td>\n",
       "      <td>0.0</td>\n",
       "      <td>Analog</td>\n",
       "      <td>AI-003</td>\n",
       "    </tr>\n",
       "    <tr>\n",
       "      <th>4</th>\n",
       "      <td>AnalogOutputStatus_0</td>\n",
       "      <td>0.0</td>\n",
       "      <td>AnalogOutputStatus</td>\n",
       "      <td>AO-000</td>\n",
       "    </tr>\n",
       "    <tr>\n",
       "      <th>5</th>\n",
       "      <td>AnalogOutputStatus_1</td>\n",
       "      <td>0.0</td>\n",
       "      <td>AnalogOutputStatus</td>\n",
       "      <td>AO-001</td>\n",
       "    </tr>\n",
       "    <tr>\n",
       "      <th>6</th>\n",
       "      <td>AnalogOutputStatus_2</td>\n",
       "      <td>0.0</td>\n",
       "      <td>AnalogOutputStatus</td>\n",
       "      <td>AO-002</td>\n",
       "    </tr>\n",
       "    <tr>\n",
       "      <th>7</th>\n",
       "      <td>AnalogOutputStatus_3</td>\n",
       "      <td>0.0</td>\n",
       "      <td>AnalogOutputStatus</td>\n",
       "      <td>AO-003</td>\n",
       "    </tr>\n",
       "    <tr>\n",
       "      <th>8</th>\n",
       "      <td>Binary_0</td>\n",
       "      <td>False</td>\n",
       "      <td>Binary</td>\n",
       "      <td>BI-000</td>\n",
       "    </tr>\n",
       "    <tr>\n",
       "      <th>9</th>\n",
       "      <td>Binary_1</td>\n",
       "      <td>False</td>\n",
       "      <td>Binary</td>\n",
       "      <td>BI-001</td>\n",
       "    </tr>\n",
       "    <tr>\n",
       "      <th>10</th>\n",
       "      <td>Binary_2</td>\n",
       "      <td>False</td>\n",
       "      <td>Binary</td>\n",
       "      <td>BI-002</td>\n",
       "    </tr>\n",
       "    <tr>\n",
       "      <th>11</th>\n",
       "      <td>Binary_3</td>\n",
       "      <td>False</td>\n",
       "      <td>Binary</td>\n",
       "      <td>BI-003</td>\n",
       "    </tr>\n",
       "    <tr>\n",
       "      <th>12</th>\n",
       "      <td>BinaryOutputStatus_0</td>\n",
       "      <td>False</td>\n",
       "      <td>BinaryOutputStatus</td>\n",
       "      <td>BO-000</td>\n",
       "    </tr>\n",
       "    <tr>\n",
       "      <th>13</th>\n",
       "      <td>BinaryOutputStatus_1</td>\n",
       "      <td>False</td>\n",
       "      <td>BinaryOutputStatus</td>\n",
       "      <td>BO-001</td>\n",
       "    </tr>\n",
       "    <tr>\n",
       "      <th>14</th>\n",
       "      <td>BinaryOutputStatus_2</td>\n",
       "      <td>False</td>\n",
       "      <td>BinaryOutputStatus</td>\n",
       "      <td>BO-002</td>\n",
       "    </tr>\n",
       "    <tr>\n",
       "      <th>15</th>\n",
       "      <td>BinaryOutputStatus_3</td>\n",
       "      <td>False</td>\n",
       "      <td>BinaryOutputStatus</td>\n",
       "      <td>BO-003</td>\n",
       "    </tr>\n",
       "  </tbody>\n",
       "</table>\n",
       "</div>"
      ],
      "text/plain": [
       "                    Name  Value                Type point_name\n",
       "0               Analog_0    0.0              Analog     AI-000\n",
       "1               Analog_1    0.0              Analog     AI-001\n",
       "2               Analog_2    0.0              Analog     AI-002\n",
       "3               Analog_3    0.0              Analog     AI-003\n",
       "4   AnalogOutputStatus_0    0.0  AnalogOutputStatus     AO-000\n",
       "5   AnalogOutputStatus_1    0.0  AnalogOutputStatus     AO-001\n",
       "6   AnalogOutputStatus_2    0.0  AnalogOutputStatus     AO-002\n",
       "7   AnalogOutputStatus_3    0.0  AnalogOutputStatus     AO-003\n",
       "8               Binary_0  False              Binary     BI-000\n",
       "9               Binary_1  False              Binary     BI-001\n",
       "10              Binary_2  False              Binary     BI-002\n",
       "11              Binary_3  False              Binary     BI-003\n",
       "12  BinaryOutputStatus_0  False  BinaryOutputStatus     BO-000\n",
       "13  BinaryOutputStatus_1  False  BinaryOutputStatus     BO-001\n",
       "14  BinaryOutputStatus_2  False  BinaryOutputStatus     BO-002\n",
       "15  BinaryOutputStatus_3  False  BinaryOutputStatus     BO-003"
      ]
     },
     "execution_count": 8,
     "metadata": {},
     "output_type": "execute_result"
    }
   ],
   "source": [
    "df_flat[\"point_name\"] = df_flat[\"Name\"].apply(lambda x: dnp3_name_mapping(x))\n",
    "df_flat"
   ]
  },
  {
   "cell_type": "code",
   "execution_count": 9,
   "metadata": {},
   "outputs": [
    {
     "data": {
      "text/html": [
       "<div>\n",
       "<style scoped>\n",
       "    .dataframe tbody tr th:only-of-type {\n",
       "        vertical-align: middle;\n",
       "    }\n",
       "\n",
       "    .dataframe tbody tr th {\n",
       "        vertical-align: top;\n",
       "    }\n",
       "\n",
       "    .dataframe thead th {\n",
       "        text-align: right;\n",
       "    }\n",
       "</style>\n",
       "<table border=\"1\" class=\"dataframe\">\n",
       "  <thead>\n",
       "    <tr style=\"text-align: right;\">\n",
       "      <th></th>\n",
       "      <th>Point</th>\n",
       "      <th>Desc_Short</th>\n",
       "      <th>Min</th>\n",
       "      <th>Max</th>\n",
       "      <th>Mult</th>\n",
       "      <th>Units</th>\n",
       "    </tr>\n",
       "  </thead>\n",
       "  <tbody>\n",
       "    <tr>\n",
       "      <th>0</th>\n",
       "      <td>AI-000</td>\n",
       "      <td>DER Profile Version Number</td>\n",
       "      <td>100</td>\n",
       "      <td>10000</td>\n",
       "      <td>0.01</td>\n",
       "      <td>NaN</td>\n",
       "    </tr>\n",
       "    <tr>\n",
       "      <th>1</th>\n",
       "      <td>AI-001</td>\n",
       "      <td>DER Profile Implementation Level</td>\n",
       "      <td>1</td>\n",
       "      <td>3</td>\n",
       "      <td>1.00</td>\n",
       "      <td>NaN</td>\n",
       "    </tr>\n",
       "    <tr>\n",
       "      <th>2</th>\n",
       "      <td>AI-002</td>\n",
       "      <td>Nameplate Minimum Voltage Rating</td>\n",
       "      <td>0</td>\n",
       "      <td>2147483647</td>\n",
       "      <td>0.10</td>\n",
       "      <td>Volts</td>\n",
       "    </tr>\n",
       "    <tr>\n",
       "      <th>3</th>\n",
       "      <td>AI-003</td>\n",
       "      <td>Nameplate Maximum Voltage Rating</td>\n",
       "      <td>0</td>\n",
       "      <td>2147483647</td>\n",
       "      <td>0.10</td>\n",
       "      <td>Volts</td>\n",
       "    </tr>\n",
       "    <tr>\n",
       "      <th>4</th>\n",
       "      <td>AI-004</td>\n",
       "      <td>Nameplate Active Generation Power Rating at Un...</td>\n",
       "      <td>0</td>\n",
       "      <td>2147483647</td>\n",
       "      <td>1.00</td>\n",
       "      <td>Watts</td>\n",
       "    </tr>\n",
       "    <tr>\n",
       "      <th>5</th>\n",
       "      <td>AI-005</td>\n",
       "      <td>Nameplate Active Charging Power Rating at Unit...</td>\n",
       "      <td>-2147483648</td>\n",
       "      <td>0</td>\n",
       "      <td>1.00</td>\n",
       "      <td>Watts</td>\n",
       "    </tr>\n",
       "  </tbody>\n",
       "</table>\n",
       "</div>"
      ],
      "text/plain": [
       "    Point                                         Desc_Short         Min  \\\n",
       "0  AI-000                         DER Profile Version Number         100   \n",
       "1  AI-001                   DER Profile Implementation Level           1   \n",
       "2  AI-002                  Nameplate Minimum Voltage Rating            0   \n",
       "3  AI-003                   Nameplate Maximum Voltage Rating           0   \n",
       "4  AI-004  Nameplate Active Generation Power Rating at Un...           0   \n",
       "5  AI-005  Nameplate Active Charging Power Rating at Unit... -2147483648   \n",
       "\n",
       "          Max  Mult  Units  \n",
       "0       10000  0.01    NaN  \n",
       "1           3  1.00    NaN  \n",
       "2  2147483647  0.10  Volts  \n",
       "3  2147483647  0.10  Volts  \n",
       "4  2147483647  1.00  Watts  \n",
       "5           0  1.00  Watts  "
      ]
     },
     "execution_count": 9,
     "metadata": {},
     "output_type": "execute_result"
    }
   ],
   "source": [
    "df_points = pd.read_csv(\"/home/kefei/project/dnp3-python/dnp3-example-schema.csv\")\n",
    "df_points"
   ]
  },
  {
   "cell_type": "code",
   "execution_count": 10,
   "metadata": {},
   "outputs": [
    {
     "data": {
      "text/html": [
       "<div>\n",
       "<style scoped>\n",
       "    .dataframe tbody tr th:only-of-type {\n",
       "        vertical-align: middle;\n",
       "    }\n",
       "\n",
       "    .dataframe tbody tr th {\n",
       "        vertical-align: top;\n",
       "    }\n",
       "\n",
       "    .dataframe thead th {\n",
       "        text-align: right;\n",
       "    }\n",
       "</style>\n",
       "<table border=\"1\" class=\"dataframe\">\n",
       "  <thead>\n",
       "    <tr style=\"text-align: right;\">\n",
       "      <th></th>\n",
       "      <th>Value</th>\n",
       "      <th>Point</th>\n",
       "      <th>Desc_Short</th>\n",
       "      <th>Min</th>\n",
       "      <th>Max</th>\n",
       "      <th>Mult</th>\n",
       "      <th>Units</th>\n",
       "    </tr>\n",
       "  </thead>\n",
       "  <tbody>\n",
       "    <tr>\n",
       "      <th>0</th>\n",
       "      <td>0.0</td>\n",
       "      <td>AI-000</td>\n",
       "      <td>DER Profile Version Number</td>\n",
       "      <td>100</td>\n",
       "      <td>10000</td>\n",
       "      <td>0.01</td>\n",
       "      <td>NaN</td>\n",
       "    </tr>\n",
       "    <tr>\n",
       "      <th>1</th>\n",
       "      <td>0.0</td>\n",
       "      <td>AI-001</td>\n",
       "      <td>DER Profile Implementation Level</td>\n",
       "      <td>1</td>\n",
       "      <td>3</td>\n",
       "      <td>1.00</td>\n",
       "      <td>NaN</td>\n",
       "    </tr>\n",
       "    <tr>\n",
       "      <th>2</th>\n",
       "      <td>0.0</td>\n",
       "      <td>AI-002</td>\n",
       "      <td>Nameplate Minimum Voltage Rating</td>\n",
       "      <td>0</td>\n",
       "      <td>2147483647</td>\n",
       "      <td>0.10</td>\n",
       "      <td>Volts</td>\n",
       "    </tr>\n",
       "    <tr>\n",
       "      <th>3</th>\n",
       "      <td>0.0</td>\n",
       "      <td>AI-003</td>\n",
       "      <td>Nameplate Maximum Voltage Rating</td>\n",
       "      <td>0</td>\n",
       "      <td>2147483647</td>\n",
       "      <td>0.10</td>\n",
       "      <td>Volts</td>\n",
       "    </tr>\n",
       "  </tbody>\n",
       "</table>\n",
       "</div>"
      ],
      "text/plain": [
       "  Value   Point                         Desc_Short  Min         Max  Mult  \\\n",
       "0   0.0  AI-000         DER Profile Version Number  100       10000  0.01   \n",
       "1   0.0  AI-001   DER Profile Implementation Level    1           3  1.00   \n",
       "2   0.0  AI-002  Nameplate Minimum Voltage Rating     0  2147483647  0.10   \n",
       "3   0.0  AI-003   Nameplate Maximum Voltage Rating    0  2147483647  0.10   \n",
       "\n",
       "   Units  \n",
       "0    NaN  \n",
       "1    NaN  \n",
       "2  Volts  \n",
       "3  Volts  "
      ]
     },
     "execution_count": 10,
     "metadata": {},
     "output_type": "execute_result"
    }
   ],
   "source": [
    "df_merged = pd.merge(df_flat[[\"Value\", \"point_name\"]], df_points, left_on=\"point_name\", right_on=\"Point\").drop(\"point_name\", axis=1)\n",
    "df_merged"
   ]
  },
  {
   "cell_type": "code",
   "execution_count": 11,
   "metadata": {},
   "outputs": [
    {
     "data": {
      "text/html": [
       "<div>\n",
       "<style scoped>\n",
       "    .dataframe tbody tr th:only-of-type {\n",
       "        vertical-align: middle;\n",
       "    }\n",
       "\n",
       "    .dataframe tbody tr th {\n",
       "        vertical-align: top;\n",
       "    }\n",
       "\n",
       "    .dataframe thead th {\n",
       "        text-align: right;\n",
       "    }\n",
       "</style>\n",
       "<table border=\"1\" class=\"dataframe\">\n",
       "  <thead>\n",
       "    <tr style=\"text-align: right;\">\n",
       "      <th></th>\n",
       "      <th>Value</th>\n",
       "      <th>Point</th>\n",
       "      <th>Desc_Short</th>\n",
       "      <th>Min</th>\n",
       "      <th>Max</th>\n",
       "      <th>Mult</th>\n",
       "      <th>Units</th>\n",
       "    </tr>\n",
       "  </thead>\n",
       "  <tbody>\n",
       "    <tr>\n",
       "      <th>0</th>\n",
       "      <td>0.0</td>\n",
       "      <td>AI-000</td>\n",
       "      <td>DER Profile Version Number</td>\n",
       "      <td>100</td>\n",
       "      <td>10000</td>\n",
       "      <td>0.01</td>\n",
       "      <td>NaN</td>\n",
       "    </tr>\n",
       "    <tr>\n",
       "      <th>1</th>\n",
       "      <td>0.0</td>\n",
       "      <td>AI-001</td>\n",
       "      <td>DER Profile Implementation\\nLevel</td>\n",
       "      <td>1</td>\n",
       "      <td>3</td>\n",
       "      <td>1.00</td>\n",
       "      <td>NaN</td>\n",
       "    </tr>\n",
       "    <tr>\n",
       "      <th>2</th>\n",
       "      <td>0.0</td>\n",
       "      <td>AI-002</td>\n",
       "      <td>Nameplate Minimum Voltage\\nRating</td>\n",
       "      <td>0</td>\n",
       "      <td>2147483647</td>\n",
       "      <td>0.10</td>\n",
       "      <td>Volts</td>\n",
       "    </tr>\n",
       "    <tr>\n",
       "      <th>3</th>\n",
       "      <td>0.0</td>\n",
       "      <td>AI-003</td>\n",
       "      <td>Nameplate Maximum Voltage\\nRating</td>\n",
       "      <td>0</td>\n",
       "      <td>2147483647</td>\n",
       "      <td>0.10</td>\n",
       "      <td>Volts</td>\n",
       "    </tr>\n",
       "  </tbody>\n",
       "</table>\n",
       "</div>"
      ],
      "text/plain": [
       "  Value   Point                         Desc_Short  Min         Max  Mult  \\\n",
       "0   0.0  AI-000         DER Profile Version Number  100       10000  0.01   \n",
       "1   0.0  AI-001  DER Profile Implementation\\nLevel    1           3  1.00   \n",
       "2   0.0  AI-002  Nameplate Minimum Voltage\\nRating    0  2147483647  0.10   \n",
       "3   0.0  AI-003  Nameplate Maximum Voltage\\nRating    0  2147483647  0.10   \n",
       "\n",
       "   Units  \n",
       "0    NaN  \n",
       "1    NaN  \n",
       "2  Volts  \n",
       "3  Volts  "
      ]
     },
     "execution_count": 11,
     "metadata": {},
     "output_type": "execute_result"
    }
   ],
   "source": [
    "import textwrap\n",
    "def wrap_text(text, width):\n",
    "    return '\\n'.join(textwrap.wrap(text, width=width))\n",
    "\n",
    "df_merged['Desc_Short'] = df_merged['Desc_Short'].apply(lambda x: wrap_text(x, width=30))\n",
    "df_merged"
   ]
  },
  {
   "cell_type": "code",
   "execution_count": 12,
   "metadata": {},
   "outputs": [
    {
     "name": "stdout",
     "output_type": "stream",
     "text": [
      "<class 'pandas.core.frame.DataFrame'>\n",
      "RangeIndex: 4 entries, 0 to 3\n",
      "Data columns (total 7 columns):\n",
      " #   Column      Non-Null Count  Dtype  \n",
      "---  ------      --------------  -----  \n",
      " 0   Value       4 non-null      object \n",
      " 1   Point       4 non-null      object \n",
      " 2   Desc_Short  4 non-null      object \n",
      " 3   Min         4 non-null      int64  \n",
      " 4   Max         4 non-null      int64  \n",
      " 5   Mult        4 non-null      float64\n",
      " 6   Units       2 non-null      object \n",
      "dtypes: float64(1), int64(2), object(4)\n",
      "memory usage: 352.0+ bytes\n"
     ]
    }
   ],
   "source": [
    "df_merged.info()"
   ]
  },
  {
   "cell_type": "code",
   "execution_count": 13,
   "metadata": {},
   "outputs": [
    {
     "data": {
      "text/plain": [
       "<pydnp3.asiodnp3.OutstationStackConfig at 0x7f6ce167a5f0>"
      ]
     },
     "execution_count": 13,
     "metadata": {},
     "output_type": "execute_result"
    }
   ],
   "source": [
    "from pydnp3 import asiodnp3, asiopal, opendnp3, openpal\n",
    "\n",
    "def configure_stack(\n",
    "        \n",
    "        db_sizes: opendnp3.DatabaseSizes = None,\n",
    "        event_buffer_config: opendnp3.EventBufferConfig = None,\n",
    "        **kwargs,\n",
    "    ) -> asiodnp3.OutstationStackConfig:\n",
    "        \"\"\"Set up the OpenDNP3 configuration.\"\"\"\n",
    "\n",
    "        stack_config = asiodnp3.OutstationStackConfig(dbSizes=db_sizes)\n",
    "\n",
    "        stack_config.outstation.eventBufferConfig = event_buffer_config\n",
    "        stack_config.outstation.params.allowUnsolicited = (\n",
    "            True  # TODO: create interface for this\n",
    "        )\n",
    "        stack_config.link.LocalAddr = (\n",
    "            2\n",
    "        )  # meaning for outstation, use 1 to follow simulator's default\n",
    "        stack_config.link.RemoteAddr = (\n",
    "            1\n",
    "        )  # meaning for master station, use 2 to follow simulator's default\n",
    "        stack_config.link.KeepAliveTimeout = openpal.TimeDuration().Max()\n",
    "        return stack_config\n",
    "    \n",
    "event_buffer_config = opendnp3.EventBufferConfig().AllTypes(sizes=10)    \n",
    "    \n",
    "db_sizes = opendnp3.DatabaseSizes.AllTypes(count=5)\n",
    "stack_config = configure_stack(\n",
    "            db_sizes=db_sizes, event_buffer_config=event_buffer_config\n",
    "        )\n",
    "\n",
    "stack_config"
   ]
  },
  {
   "cell_type": "code",
   "execution_count": 14,
   "metadata": {},
   "outputs": [],
   "source": [
    "# @staticmethod\n",
    "# def configure_database(db_config):\n",
    "#     \"\"\"\n",
    "#     Configure the Outstation's database of input point definitions.\n",
    "\n",
    "#     # Configure two Analog points (group/variation 30.1) at indexes 1 and 2.\n",
    "#     Configure two Analog points (group/variation 30.1) at indexes 0, 1.\n",
    "#     Configure two Binary points (group/variation 1.2) at indexes 1 and 2.\n",
    "#     \"\"\"\n",
    "\n",
    "#     # AnalogInput\n",
    "#     db_config.analog[0].clazz = opendnp3.PointClass.Class2\n",
    "#     # db_config.analog[0].svariation = opendnp3.StaticAnalogVariation.Group30Var1\n",
    "#     db_config.analog[\n",
    "#         0\n",
    "#     ].svariation = opendnp3.StaticAnalogVariation.Group30Var5  # note: experiment, Analog input - double-precision, floating-point with flag ref: https://docs.stepfunc.io/dnp3/0.9.0/dotnet/namespacednp3.html#aa326dc3592a41ae60222051044fb084f\n",
    "#     db_config.analog[0].evariation = opendnp3.EventAnalogVariation.Group32Var7\n",
    "#     db_config.analog[1].clazz = opendnp3.PointClass.Class2\n",
    "#     db_config.analog[1].svariation = opendnp3.StaticAnalogVariation.Group30Var1\n",
    "#     db_config.analog[1].evariation = opendnp3.EventAnalogVariation.Group32Var7\n",
    "#     # db_config.analog[2].clazz = opendnp3.PointClass.Class2\n",
    "#     # db_config.analog[2].svariation = opendnp3.StaticAnalogVariation.Group30Var1\n",
    "#     # db_config.analog[2].evariation = opendnp3.EventAnalogVariation.Group32Var7\n",
    "    \n",
    "#     return db_config\n",
    "\n",
    "\n",
    "# # stack_config.dbConfig = configure_database(stack_config.dbConfig)\n",
    "# configure_database(stack_config.dbConfig)"
   ]
  },
  {
   "cell_type": "code",
   "execution_count": 15,
   "metadata": {},
   "outputs": [
    {
     "data": {
      "text/plain": [
       "<pydnp3.asiodnp3.DatabaseConfig at 0x7f6d2036a430>"
      ]
     },
     "execution_count": 15,
     "metadata": {},
     "output_type": "execute_result"
    }
   ],
   "source": [
    "stack_config.dbConfig"
   ]
  },
  {
   "cell_type": "code",
   "execution_count": 16,
   "metadata": {},
   "outputs": [
    {
     "data": {
      "text/plain": [
       "<pydnp3.opendnp3.AnalogConfig at 0x7f6ce15f5570>"
      ]
     },
     "execution_count": 16,
     "metadata": {},
     "output_type": "execute_result"
    }
   ],
   "source": [
    "stack_config.dbConfig.analog[0]"
   ]
  },
  {
   "cell_type": "code",
   "execution_count": 17,
   "metadata": {},
   "outputs": [
    {
     "data": {
      "text/plain": [
       "['__class__',\n",
       " '__delattr__',\n",
       " '__dir__',\n",
       " '__doc__',\n",
       " '__eq__',\n",
       " '__format__',\n",
       " '__ge__',\n",
       " '__getattribute__',\n",
       " '__gt__',\n",
       " '__hash__',\n",
       " '__init__',\n",
       " '__init_subclass__',\n",
       " '__le__',\n",
       " '__lt__',\n",
       " '__module__',\n",
       " '__ne__',\n",
       " '__new__',\n",
       " '__reduce__',\n",
       " '__reduce_ex__',\n",
       " '__repr__',\n",
       " '__setattr__',\n",
       " '__sizeof__',\n",
       " '__str__',\n",
       " '__subclasshook__',\n",
       " 'clazz',\n",
       " 'deadband',\n",
       " 'evariation',\n",
       " 'svariation',\n",
       " 'vIndex']"
      ]
     },
     "execution_count": 17,
     "metadata": {},
     "output_type": "execute_result"
    }
   ],
   "source": [
    "dir(stack_config.dbConfig.analog[0])"
   ]
  },
  {
   "cell_type": "code",
   "execution_count": 18,
   "metadata": {},
   "outputs": [
    {
     "data": {
      "text/plain": [
       "<EventAnalogVariation.Group32Var1: 0>"
      ]
     },
     "execution_count": 18,
     "metadata": {},
     "output_type": "execute_result"
    }
   ],
   "source": [
    "stack_config.dbConfig.analog[3].evariation\n"
   ]
  },
  {
   "cell_type": "code",
   "execution_count": 19,
   "metadata": {},
   "outputs": [
    {
     "data": {
      "text/plain": [
       "<StaticAnalogVariation.Group30Var1: 0>"
      ]
     },
     "execution_count": 19,
     "metadata": {},
     "output_type": "execute_result"
    }
   ],
   "source": [
    "stack_config.dbConfig.analog[3].svariation"
   ]
  },
  {
   "cell_type": "code",
   "execution_count": 20,
   "metadata": {},
   "outputs": [
    {
     "data": {
      "text/plain": [
       "<StaticAnalogVariation.Group30Var1: 0>"
      ]
     },
     "execution_count": 20,
     "metadata": {},
     "output_type": "execute_result"
    }
   ],
   "source": [
    "stack_config.dbConfig.analog[0].svariation"
   ]
  },
  {
   "cell_type": "code",
   "execution_count": 21,
   "metadata": {},
   "outputs": [
    {
     "name": "stdout",
     "output_type": "stream",
     "text": [
      "StaticAnalogVariation.Group30Var1\n",
      "StaticAnalogVariation.Group30Var1\n",
      "StaticAnalogVariation.Group30Var1\n",
      "StaticAnalogVariation.Group30Var1\n",
      "StaticAnalogVariation.Group30Var1\n",
      "StaticAnalogVariation.???\n",
      "StaticAnalogVariation.???\n",
      "StaticAnalogVariation.???\n",
      "StaticAnalogVariation.???\n",
      "StaticAnalogVariation.???\n"
     ]
    }
   ],
   "source": [
    "for i in range(10):\n",
    "    print(stack_config.dbConfig.analog[i].svariation)"
   ]
  },
  {
   "cell_type": "code",
   "execution_count": 22,
   "metadata": {},
   "outputs": [
    {
     "name": "stdout",
     "output_type": "stream",
     "text": [
      "StaticAnalogVariation.Group30Var1\n",
      "StaticAnalogVariation.Group30Var1\n",
      "StaticAnalogVariation.Group30Var1\n",
      "StaticAnalogVariation.Group30Var1\n",
      "StaticAnalogVariation.Group30Var1\n",
      "StaticAnalogVariation.???\n",
      "StaticAnalogVariation.???\n",
      "StaticAnalogVariation.???\n",
      "StaticAnalogVariation.???\n",
      "StaticAnalogVariation.???\n"
     ]
    }
   ],
   "source": [
    "stack_config.dbConfig.analog[0].clazz = opendnp3.PointClass.Class2\n",
    "# db_config.analog[0].svariation = opendnp3.StaticAnalogVariation.Group30Var1\n",
    "stack_config.dbConfig.analog[\n",
    "    0\n",
    "].svariation = opendnp3.StaticAnalogVariation.Group30Var4  # note: experiment, Analog input - double-precision, floating-point with flag ref: https://docs.stepfunc.io/dnp3/0.9.0/dotnet/namespacednp3.html#aa326dc3592a41ae60222051044fb084f\n",
    "stack_config.dbConfig.analog[0].evariation = opendnp3.EventAnalogVariation.Group32Var7\n",
    "    \n",
    "for i in range(10):\n",
    "    print(stack_config.dbConfig.analog[i].svariation)"
   ]
  },
  {
   "cell_type": "code",
   "execution_count": 23,
   "metadata": {},
   "outputs": [
    {
     "data": {
      "text/plain": [
       "<StaticAnalogVariation.Group30Var1: 0>"
      ]
     },
     "execution_count": 23,
     "metadata": {},
     "output_type": "execute_result"
    }
   ],
   "source": [
    "stack_config.dbConfig.analog[3].svariation"
   ]
  },
  {
   "cell_type": "code",
   "execution_count": 30,
   "metadata": {},
   "outputs": [
    {
     "ename": "AttributeError",
     "evalue": "'pydnp3.openpal.ArrayBinaryConfig' object has no attribute 'toView'",
     "output_type": "error",
     "traceback": [
      "\u001b[0;31m---------------------------------------------------------------------------\u001b[0m",
      "\u001b[0;31mAttributeError\u001b[0m                            Traceback (most recent call last)",
      "Cell \u001b[0;32mIn[30], line 2\u001b[0m\n\u001b[1;32m      1\u001b[0m \u001b[38;5;66;03m# stack_config.dbConfig.analog.toView\u001b[39;00m\n\u001b[0;32m----> 2\u001b[0m \u001b[43mstack_config\u001b[49m\u001b[38;5;241;43m.\u001b[39;49m\u001b[43mdbConfig\u001b[49m\u001b[38;5;241;43m.\u001b[39;49m\u001b[43mbinary\u001b[49m\u001b[38;5;241;43m.\u001b[39;49m\u001b[43mtoView\u001b[49m\n",
      "\u001b[0;31mAttributeError\u001b[0m: 'pydnp3.openpal.ArrayBinaryConfig' object has no attribute 'toView'"
     ]
    }
   ],
   "source": [
    "# stack_config.dbConfig.analog.toView\n",
    "stack_config.dbConfig.binary.toView"
   ]
  },
  {
   "cell_type": "code",
   "execution_count": 24,
   "metadata": {},
   "outputs": [
    {
     "data": {
      "text/plain": [
       "<EventAnalogVariation.???: 101>"
      ]
     },
     "execution_count": 24,
     "metadata": {},
     "output_type": "execute_result"
    }
   ],
   "source": [
    "stack_config.dbConfig.analog[10].evariation"
   ]
  },
  {
   "cell_type": "code",
   "execution_count": 25,
   "metadata": {},
   "outputs": [
    {
     "data": {
      "text/plain": [
       "['__class__',\n",
       " '__delattr__',\n",
       " '__dir__',\n",
       " '__doc__',\n",
       " '__eq__',\n",
       " '__format__',\n",
       " '__ge__',\n",
       " '__getattribute__',\n",
       " '__gt__',\n",
       " '__hash__',\n",
       " '__init__',\n",
       " '__init_subclass__',\n",
       " '__le__',\n",
       " '__lt__',\n",
       " '__module__',\n",
       " '__ne__',\n",
       " '__new__',\n",
       " '__reduce__',\n",
       " '__reduce_ex__',\n",
       " '__repr__',\n",
       " '__setattr__',\n",
       " '__sizeof__',\n",
       " '__str__',\n",
       " '__subclasshook__',\n",
       " 'analog',\n",
       " 'aoStatus',\n",
       " 'binary',\n",
       " 'boStatus',\n",
       " 'counter',\n",
       " 'doubleBinary',\n",
       " 'frozenCounter',\n",
       " 'sizes',\n",
       " 'timeAndInterval']"
      ]
     },
     "execution_count": 25,
     "metadata": {},
     "output_type": "execute_result"
    }
   ],
   "source": [
    "dir(stack_config.dbConfig)"
   ]
  },
  {
   "cell_type": "code",
   "execution_count": 26,
   "metadata": {},
   "outputs": [
    {
     "data": {
      "text/plain": [
       "<pydnp3.opendnp3.DatabaseSizes at 0x7f6ce15e2630>"
      ]
     },
     "execution_count": 26,
     "metadata": {},
     "output_type": "execute_result"
    }
   ],
   "source": [
    "stack_config.dbConfig.sizes"
   ]
  },
  {
   "cell_type": "code",
   "execution_count": 27,
   "metadata": {},
   "outputs": [
    {
     "data": {
      "text/plain": [
       "['__abs__',\n",
       " '__add__',\n",
       " '__and__',\n",
       " '__bool__',\n",
       " '__ceil__',\n",
       " '__class__',\n",
       " '__delattr__',\n",
       " '__dir__',\n",
       " '__divmod__',\n",
       " '__doc__',\n",
       " '__eq__',\n",
       " '__float__',\n",
       " '__floor__',\n",
       " '__floordiv__',\n",
       " '__format__',\n",
       " '__ge__',\n",
       " '__getattribute__',\n",
       " '__getnewargs__',\n",
       " '__gt__',\n",
       " '__hash__',\n",
       " '__index__',\n",
       " '__init__',\n",
       " '__init_subclass__',\n",
       " '__int__',\n",
       " '__invert__',\n",
       " '__le__',\n",
       " '__lshift__',\n",
       " '__lt__',\n",
       " '__mod__',\n",
       " '__mul__',\n",
       " '__ne__',\n",
       " '__neg__',\n",
       " '__new__',\n",
       " '__or__',\n",
       " '__pos__',\n",
       " '__pow__',\n",
       " '__radd__',\n",
       " '__rand__',\n",
       " '__rdivmod__',\n",
       " '__reduce__',\n",
       " '__reduce_ex__',\n",
       " '__repr__',\n",
       " '__rfloordiv__',\n",
       " '__rlshift__',\n",
       " '__rmod__',\n",
       " '__rmul__',\n",
       " '__ror__',\n",
       " '__round__',\n",
       " '__rpow__',\n",
       " '__rrshift__',\n",
       " '__rshift__',\n",
       " '__rsub__',\n",
       " '__rtruediv__',\n",
       " '__rxor__',\n",
       " '__setattr__',\n",
       " '__sizeof__',\n",
       " '__str__',\n",
       " '__sub__',\n",
       " '__subclasshook__',\n",
       " '__truediv__',\n",
       " '__trunc__',\n",
       " '__xor__',\n",
       " 'as_integer_ratio',\n",
       " 'bit_count',\n",
       " 'bit_length',\n",
       " 'conjugate',\n",
       " 'denominator',\n",
       " 'from_bytes',\n",
       " 'imag',\n",
       " 'numerator',\n",
       " 'real',\n",
       " 'to_bytes']"
      ]
     },
     "execution_count": 27,
     "metadata": {},
     "output_type": "execute_result"
    }
   ],
   "source": [
    "dir(stack_config.dbConfig.sizes.numAnalog)"
   ]
  },
  {
   "cell_type": "code",
   "execution_count": 28,
   "metadata": {},
   "outputs": [
    {
     "data": {
      "text/plain": [
       "5"
      ]
     },
     "execution_count": 28,
     "metadata": {},
     "output_type": "execute_result"
    }
   ],
   "source": [
    "stack_config.dbConfig.sizes.numAnalog"
   ]
  },
  {
   "cell_type": "code",
   "execution_count": null,
   "metadata": {},
   "outputs": [],
   "source": []
  }
 ],
 "metadata": {
  "kernelspec": {
   "display_name": "dnp3-py310",
   "language": "python",
   "name": "python3"
  },
  "language_info": {
   "codemirror_mode": {
    "name": "ipython",
    "version": 3
   },
   "file_extension": ".py",
   "mimetype": "text/x-python",
   "name": "python",
   "nbconvert_exporter": "python",
   "pygments_lexer": "ipython3",
   "version": "3.10.14"
  }
 },
 "nbformat": 4,
 "nbformat_minor": 2
}
